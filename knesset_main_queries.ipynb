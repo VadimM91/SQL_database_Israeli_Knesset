{
 "cells": [
  {
   "cell_type": "markdown",
   "metadata": {},
   "source": [
    "## knesset_main_queries"
   ]
  },
  {
   "cell_type": "code",
   "execution_count": null,
   "metadata": {
    "vscode": {
     "languageId": "sql"
    }
   },
   "outputs": [],
   "source": [
    "/* 1. */\n",
    "\n",
    "-- name, age, and year of Knesset \n",
    "\n",
    "SELECT name, (1949-yob) AS age, \n",
    "1949 AS Year_of_knesset\n",
    "FROM knesset_main\n",
    "WHERE candidacy = 'Full' AND cycle = 1\n",
    "ORDER BY age;"
   ]
  },
  {
   "cell_type": "code",
   "execution_count": null,
   "metadata": {
    "vscode": {
     "languageId": "sql"
    }
   },
   "outputs": [],
   "source": [
    "/* 2. */\n",
    "\n",
    "-- main_knes - Create View: name, yob, Generation, Cycle, and age\n",
    "\n",
    "CREATE VIEW main_knesset AS -- Create View\n",
    "    SELECT * ,\n",
    "    CASE\n",
    "        WHEN cycle = 1  THEN (1949-yob) WHEN cycle = 2  THEN (1951-yob) WHEN cycle = 3  THEN (1955-yob)\n",
    "        WHEN cycle = 4  THEN (1959-yob) WHEN cycle = 5  THEN (1961-yob) WHEN cycle = 6  THEN (1965-yob)\n",
    "        WHEN cycle = 7  THEN (1969-yob) WHEN cycle = 8  THEN (1974-yob) WHEN cycle = 9  THEN (1977-yob)\n",
    "        WHEN cycle = 10 THEN (1981-yob) WHEN cycle = 11 THEN (1984-yob) WHEN cycle = 12 THEN (1988-yob)\n",
    "        WHEN cycle = 13 THEN (1992-yob) WHEN cycle = 14 THEN (1996-yob) WHEN cycle = 15 THEN (1999-yob)\n",
    "        WHEN cycle = 16 THEN (2003-yob) WHEN cycle = 17 THEN (2006-yob) WHEN cycle = 18 THEN (2009-yob)\n",
    "        WHEN cycle = 19 THEN (2013-yob) WHEN cycle = 20 THEN (2015-yob) WHEN cycle = 21 THEN (2019-yob)\n",
    "        WHEN cycle = 22 THEN (2019-yob) WHEN cycle = 23 THEN (2020-yob) WHEN cycle = 24 THEN (2021-yob)   \n",
    "            END AS age\n",
    "    FROM (\n",
    "        SELECT \n",
    "            name, \n",
    "            yob,\n",
    "            CASE\n",
    "                WHEN yob BETWEEN 1860 AND 1882 THEN '1. Missionary Generation'\n",
    "                WHEN yob BETWEEN 1883 AND 1900 THEN '2. Lost Generation'\n",
    "                WHEN yob BETWEEN 1901 AND 1927 THEN '3. Greatest Generation'\n",
    "                WHEN yob BETWEEN 1928 AND 1945 THEN '4. Silent Generation'\n",
    "                WHEN yob BETWEEN 1946 AND 1964 THEN '5. Baby Boomers'\n",
    "                WHEN yob BETWEEN 1965 AND 1980 THEN '6. Generation X'\n",
    "                WHEN yob BETWEEN 1981 AND 1996 THEN '7. Millennials Y'        \n",
    "                    END AS Generation,\n",
    "            cycle\n",
    "    FROM    ) AS foo"
   ]
  },
  {
   "cell_type": "code",
   "execution_count": null,
   "metadata": {
    "vscode": {
     "languageId": "sql"
    }
   },
   "outputs": [],
   "source": [
    "/* 2.1 Select from View */\n",
    "-- sum of generation by year \n",
    "\n",
    "SELECT generation, COUNT(cycle), \n",
    "CASE\n",
    "    WHEN cycle = 1  THEN (1949) WHEN cycle = 2  THEN (1951) WHEN cycle = 3  THEN (1955)\n",
    "    WHEN cycle = 4  THEN (1959) WHEN cycle = 5  THEN (1961) WHEN cycle = 6  THEN (1965)\n",
    "    WHEN cycle = 7  THEN (1969) WHEN cycle = 8  THEN (1974) WHEN cycle = 9  THEN (1977)\n",
    "    WHEN cycle = 10 THEN (1981) WHEN cycle = 11 THEN (1984) WHEN cycle = 12 THEN (1988)\n",
    "    WHEN cycle = 13 THEN (1992) WHEN cycle = 14 THEN (1996) WHEN cycle = 15 THEN (1999)\n",
    "    WHEN cycle = 16 THEN (2003) WHEN cycle = 17 THEN (2006) WHEN cycle = 18 THEN (2009)\n",
    "    WHEN cycle = 19 THEN (2013) WHEN cycle = 20 THEN (2015) WHEN cycle = 21 THEN (2019)\n",
    "    WHEN cycle = 22 THEN (2019) WHEN cycle = 23 THEN (2020) WHEN cycle = 24 THEN (2021)   \n",
    "        END AS year_of_knesset\n",
    "FROM main_knesset \n",
    "GROUP BY generation, cycle\n",
    "ORDER BY cycle, generation"
   ]
  },
  {
   "cell_type": "code",
   "execution_count": null,
   "metadata": {
    "vscode": {
     "languageId": "sql"
    }
   },
   "outputs": [],
   "source": []
  },
  {
   "cell_type": "code",
   "execution_count": null,
   "metadata": {
    "vscode": {
     "languageId": "sql"
    }
   },
   "outputs": [],
   "source": [
    "/* 2. */ -- TEMP\n",
    "\n",
    "-- main_knes - Create View: name, yob, Generation, Cycle, and age\n",
    "-- for R plotting CSV export\n",
    "\n",
    "CREATE VIEW gen AS -- Create View\n",
    "    SELECT * ,\n",
    "    CASE\n",
    "        WHEN cycle = 1  THEN (1949-yob) WHEN cycle = 2  THEN (1951-yob) WHEN cycle = 3  THEN (1955-yob)\n",
    "        WHEN cycle = 4  THEN (1959-yob) WHEN cycle = 5  THEN (1961-yob) WHEN cycle = 6  THEN (1965-yob)\n",
    "        WHEN cycle = 7  THEN (1969-yob) WHEN cycle = 8  THEN (1974-yob) WHEN cycle = 9  THEN (1977-yob)\n",
    "        WHEN cycle = 10 THEN (1981-yob) WHEN cycle = 11 THEN (1984-yob) WHEN cycle = 12 THEN (1988-yob)\n",
    "        WHEN cycle = 13 THEN (1992-yob) WHEN cycle = 14 THEN (1996-yob) WHEN cycle = 15 THEN (1999-yob)\n",
    "        WHEN cycle = 16 THEN (2003-yob) WHEN cycle = 17 THEN (2006-yob) WHEN cycle = 18 THEN (2009-yob)\n",
    "        WHEN cycle = 19 THEN (2013-yob) WHEN cycle = 20 THEN (2015-yob) WHEN cycle = 21 THEN (2019-yob)\n",
    "        WHEN cycle = 22 THEN (2019-yob) WHEN cycle = 23 THEN (2020-yob) WHEN cycle = 24 THEN (2021-yob)   \n",
    "            END AS age\n",
    "    FROM (\n",
    "        SELECT \n",
    "            name, \n",
    "            yob,\n",
    "            CASE\n",
    "                WHEN yob BETWEEN 1860 AND 1882 THEN 1\n",
    "                WHEN yob BETWEEN 1883 AND 1900 THEN 2 \n",
    "                WHEN yob BETWEEN 1901 AND 1927 THEN 3 \n",
    "                WHEN yob BETWEEN 1928 AND 1945 THEN 4 \n",
    "                WHEN yob BETWEEN 1946 AND 1964 THEN 5 \n",
    "                WHEN yob BETWEEN 1965 AND 1980 THEN 6 \n",
    "                WHEN yob BETWEEN 1981 AND 1996 THEN 7       \n",
    "                    END AS Generation,\n",
    "            cycle\n",
    "    FROM gen_num) AS foo"
   ]
  },
  {
   "cell_type": "code",
   "execution_count": null,
   "metadata": {
    "vscode": {
     "languageId": "sql"
    }
   },
   "outputs": [],
   "source": []
  },
  {
   "cell_type": "code",
   "execution_count": null,
   "metadata": {
    "vscode": {
     "languageId": "sql"
    }
   },
   "outputs": [],
   "source": [
    "-- Missionary Generation\t1860-1882\n",
    "-- Lost Generation\t1883-1900\n",
    "-- Greatest Generation\t1901-1927\n",
    "-- Silent Generation\t1928-1945\n",
    "-- Baby Boomers\t1946-1964\n",
    "-- Generation X\t1965-1980\n",
    "-- Millennials Y\t1981-1996 "
   ]
  }
 ],
 "metadata": {
  "kernelspec": {
   "display_name": "Python 3.9.12 ('base')",
   "language": "python",
   "name": "python3"
  },
  "language_info": {
   "name": "python",
   "version": "3.9.12"
  },
  "orig_nbformat": 4,
  "vscode": {
   "interpreter": {
    "hash": "d6569922b3472e3b6d4e09d229bfd43cb8d5bc7f4f96724c1235498c63839d60"
   }
  }
 },
 "nbformat": 4,
 "nbformat_minor": 2
}
